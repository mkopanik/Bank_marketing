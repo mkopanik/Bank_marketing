{
 "cells": [
  {
   "cell_type": "markdown",
   "metadata": {},
   "source": [
    "Zad 1. Stworzyć funkcję odleglosc, która dla dwóch punktów zwraca odległość euklidesową między nimi. \n",
    "\n",
    "na płaszczyźnie\n",
    "w ℝ𝑛 bez ustalania wartości "
   ]
  },
  {
   "cell_type": "code",
   "execution_count": 56,
   "metadata": {},
   "outputs": [],
   "source": [
    "def odleglosc(x:list|tuple,y:list|tuple):\n",
    "    \"\"\"\n",
    "    podaj dwa punkty jako lista lub krotka  przykladowo dla R^2 x = (1,1), y = (4,5) lub x = [1,1] , y = [4,5]\n",
    "    \"\"\"\n",
    "    import math\n",
    "    l1 = len(x)\n",
    "    l2 = len(y)\n",
    "    if (l1 != l2):\n",
    "        return \"Podałeś punkty z róznych wymiarów\"\n",
    "        \n",
    "    else:\n",
    "        sum = 0\n",
    "        for i in range(l1):\n",
    "            sum = sum + (x[i]-y[i])**2\n",
    "        return math.sqrt(sum)\n",
    "     "
   ]
  },
  {
   "cell_type": "code",
   "execution_count": 57,
   "metadata": {},
   "outputs": [
    {
     "name": "stdout",
     "output_type": "stream",
     "text": [
      "5.196152422706632 18.681541692269406 5.744562646538029 Podałeś punkty z róznych wymiarów\n"
     ]
    }
   ],
   "source": [
    "print(odleglosc([1,2,3],[4,5,6]),odleglosc((5,2),(10,20)),odleglosc((1,2,3,4,5,6),(4,3,2,1,7,9)),odleglosc((2,2),(1,5,6)))"
   ]
  },
  {
   "cell_type": "markdown",
   "metadata": {},
   "source": [
    "Zad. 2. Zdefiniuj funkcję czytrojkat pobierającą współrzędne trzech punktów na płaszczyźnie i sprawdzającą czy da się z nich zbudować trójkąt. Np. dla [0,0], [0,2], [0,3] wynik ma być False; dla [0,0], [0,2], [3,0] wynik ma być True."
   ]
  },
  {
   "cell_type": "code",
   "execution_count": 58,
   "metadata": {},
   "outputs": [],
   "source": [
    "def czytrojkat(x:list|tuple,y:list|tuple,z:list|tuple):\n",
    "    \"\"\"funkcja pobierająca współrzędne trzech punktów z płaszczyzny i sprawdzająca, czy da się z nich zbudować trojkąt, argumenty podawaj \n",
    "        w postaci krotki bądź list zawierającej współrzędne kazdego punktu z płaszczyzny przykładowo dla [0,0], [0,2], [0,3] zwraca wartość False; \n",
    "        dla [0,0], [0,2], [3,0],True.\n",
    "    \"\"\"\n",
    "    # skorzystamy ze wzoru na pole trójkąta na płaszczyźnie jezeli jego pole będzie wynosić zero to punkty są wspóliniowe zwrocimy False\n",
    "    # pomijamy 1/2 i moduł ze wzoru bo interesuje nas zerowy iloczyn \n",
    "    P = x[0]*(y[1]-z[1]) + y[0]*(z[1]-x[1]) + z[0] * (x[1]-y[1])\n",
    "    if (P!=0):\n",
    "        return True\n",
    "    else:\n",
    "        return False\n",
    "    "
   ]
  },
  {
   "cell_type": "code",
   "execution_count": 59,
   "metadata": {},
   "outputs": [
    {
     "name": "stdout",
     "output_type": "stream",
     "text": [
      "False True False\n"
     ]
    }
   ],
   "source": [
    "print(czytrojkat([0,0],[0,2],[0,3]),czytrojkat([0,0],[0,2],[3,0]),czytrojkat((1,1),(0,0),(2,2)))\n"
   ]
  },
  {
   "cell_type": "markdown",
   "metadata": {},
   "source": [
    "Zad. 3. Zdefiniować funkcję czyrozwartokatny sprawdzającą, czy trzy punkty na płaszczyźnie tworzą trójkąt rozwartokątny. "
   ]
  },
  {
   "cell_type": "code",
   "execution_count": 60,
   "metadata": {},
   "outputs": [],
   "source": [
    "def czyrozwartokatny(x:list|tuple,y:list|tuple,z:list|tuple):\n",
    "    \"\"\"funkcja sprawdza, czy podane przez ciebie trzy punkty z płaszczyzny w formie krotki lub listy tworzą trojkąt rozwartokątny\n",
    "        zwraca True jezeli mozna utworzyc trojkat rozwartokatny \n",
    "    \"\"\"\n",
    "    if czytrojkat(x,y,z):\n",
    "        l1 = round(odleglosc(x,y)**2,4)\n",
    "        l2 = round(odleglosc(y,z)**2,4)\n",
    "        l3 = round(odleglosc(x,z)**2,4)\n",
    "        if ((l1> (l1+l2))or (l2 > (l1+l3)) or (l3>(l1+l2))):\n",
    "            return True\n",
    "        else:\n",
    "            return False\n",
    "    else:\n",
    "        \n",
    "        return False\n",
    "\n",
    "       "
   ]
  },
  {
   "cell_type": "code",
   "execution_count": 61,
   "metadata": {},
   "outputs": [
    {
     "name": "stdout",
     "output_type": "stream",
     "text": [
      "False False True True False\n"
     ]
    }
   ],
   "source": [
    "print(czyrozwartokatny([0,0],[0,2],[0,3]),czyrozwartokatny([0,0],[0,2],[3,0]),czyrozwartokatny([0,0],[1,0],[-2,1]),czyrozwartokatny([5,5],[20,5],[3,3]),czyrozwartokatny([0,0],[0,2],[2,0]))"
   ]
  },
  {
   "cell_type": "markdown",
   "metadata": {},
   "source": [
    "Zad. 4. Stworzyć funkcję sprawdzającą, czy cztery punkty na płaszczyźnie tworzą prostokąt, którego boki są równoległe do osi układu współrzędnych.\n",
    "\n"
   ]
  },
  {
   "cell_type": "code",
   "execution_count": 62,
   "metadata": {},
   "outputs": [],
   "source": [
    "def prost_rown(a:list|tuple,b:list|tuple,c:list|tuple,d:list|tuple):\n",
    "    \"\"\"Funkcja dla czterech punktów zwraca, czy utworzą prostokąt którego boki są równoległe do osi układu współrzędnych\n",
    "\n",
    "    Args:\n",
    "        a (list,tuple): punkt\n",
    "        b (list,tuple): punkt\n",
    "        c (list,tuple): punkt\n",
    "        d (list.tuple): punkt\n",
    "        \n",
    "    \"\"\"\n",
    "    x = set()\n",
    "    y = set()\n",
    "    \n",
    "    list = [a,b,c,d]\n",
    "    for i in list:\n",
    "        x.add(i[0])\n",
    "        y.add(i[1])\n",
    "    if (len(x) ==2 and len(y) == 2):\n",
    "        return True\n",
    "    else:\n",
    "        return False\n",
    "    \n",
    "    \n",
    "    \n",
    "    # punkty = [b,c,d]\n",
    " \n",
    "    # punktyg = punkty\n",
    "    # for x in punkty:\n",
    "        \n",
    "    #     if (x[0]==a[0]):\n",
    "    #         punkt1 = x\n",
    "    #         punktyg.remove(punkt1)\n",
    "    #     if (x[1]==a[1]):\n",
    "    #         punkt2 = x\n",
    "    #         punktyg.remove(punkt2)\n",
    "    # if (len(punkty)==1):\n",
    "    #     l1 = odleglosc(x,punkt1)**2\n",
    "    #     l2 = odleglosc(punkt1,punktyg[0])**2\n",
    "    #     l3 = odleglosc(x,punktyg[0])**2\n",
    "    #     if (l1+l2 == l3):\n",
    "    #         return True\n",
    "    #     return False    \n",
    "    # else:\n",
    "    #     return False"
   ]
  },
  {
   "cell_type": "code",
   "execution_count": 63,
   "metadata": {},
   "outputs": [
    {
     "name": "stdout",
     "output_type": "stream",
     "text": [
      "True False False\n"
     ]
    }
   ],
   "source": [
    "print(prost_rown([0,0],[5,0],[0,5],[5,5]),prost_rown([0,0],[5,0],[0,-5],[5,5]),prost_rown([2,2],[4,2],[4,4],[6,4]))"
   ]
  },
  {
   "cell_type": "markdown",
   "metadata": {},
   "source": [
    "Zad. 5. Zdefiniować funkcję, która sprawdza czy dwa prostokąty, o bokach równoległych do osi, są rozłączne - funkcja pobiera dwie czwórki współrzędnych na płaszczyźnie i zwraca True jeśli są rozłączne, False w przeciwnym razie. \n"
   ]
  },
  {
   "cell_type": "code",
   "execution_count": 173,
   "metadata": {},
   "outputs": [],
   "source": [
    "def stykajace_prostokaty(a: list|tuple, b: list|tuple):\n",
    "    \"\"\"funkcja która sprawdza, czy dwa prostokąty o bokach rownoległych do osi są rozlączne \n",
    "    \n",
    "\n",
    "    Args:\n",
    "        a (list | tuple): czwórka współrzędnych (pierwszy prostokat) np. [[1,1],[2,2],[3,3],[4,4]]\n",
    "        b (list | tuple): czwórka współrzędnych (drugi prostokąt) np. [[1,1],[2,2],[3,3],[4,4]]\n",
    "    \"\"\"\n",
    "    \n",
    "    a_x = set()\n",
    "    a_y = set()\n",
    "    b_x = set()\n",
    "    b_y = set()\n",
    "    \n",
    "    if (len(a)==4 & len(b)==4):\n",
    "        if (prost_rown(a[0],a[1],a[2],a[3]) & prost_rown(b[0],b[1],b[2],b[3])):\n",
    "            # potrzebujemy uporządkować punkty, ale wiemy że mamy tylko dwie różne wspolrzędne x i y w kazdym z tych prostokątów musimy wybrać większą i mniejszą \n",
    "            for i in range(len(a)):\n",
    "                a_x.add(a[i][0]) # zbieramy x z pierwszego prostokąta\n",
    "                a_y.add(a[i][1]) # zbieramy y z pierwszego prostokąta\n",
    "                b_x.add(b[i][0]) # zbieramy x z drugiego prostokata\n",
    "                b_y.add(b[i][1]) # zbieramy y z drugiego prostokąta\n",
    "            # teraz przypiszemy sobie min x, min y , max x , max y dla pierwszxego i drugiego prostokąta \n",
    "            \n",
    "            a_x_min = min(a_x)\n",
    "            a_x_max = max(a_x)\n",
    "            b_x_min = min(b_x)\n",
    "            b_x_max = max(b_x)\n",
    "            a_y_min = min(a_y)\n",
    "            a_y_max = max(a_y)\n",
    "            b_y_min = min(b_y)\n",
    "            b_y_max = max(b_y)\n",
    "            \n",
    "            \n",
    "            if((b_x_max<a_x_min) or (b_x_min>a_x_max) or (b_y_max<a_y_min) or (b_y_min)>(a_y_max)):\n",
    "                return True\n",
    "            else:\n",
    "                print(\"Prostokąty nie są rozłączne \")\n",
    "                return False\n",
    "        else:\n",
    "            print(\"nie podałes prostokątów o bokach równoległych do osi układu współrzędnych\")\n",
    "            return False    \n",
    "            \n",
    "            \n",
    "            \n",
    "    else:\n",
    "        print('nie podaleś czwórki wspolrzędnych')\n",
    "        return False \n",
    "        \n",
    "    "
   ]
  },
  {
   "cell_type": "code",
   "execution_count": 174,
   "metadata": {},
   "outputs": [
    {
     "name": "stdout",
     "output_type": "stream",
     "text": [
      "Prostokąty nie są rozłączne \n",
      "False True\n"
     ]
    }
   ],
   "source": [
    "print(stykajace_prostokaty([[0,0],[5,0],[0,5],[5,5]],[[0,0],[5,0],[0,2],[5,2]]),stykajace_prostokaty([[0,0],[5,0],[0,5],[5,5]],[[-5,-1],[-1,-1],[-5,3],[-1,3]]))"
   ]
  },
  {
   "cell_type": "markdown",
   "metadata": {},
   "source": [
    "Zad. 6. Odwrócić kolejność słów w stringu. Stworzyć odpowiednią procedurę. Np. dla stringu 'To jest proste zadanie' wynik ma być 'zadanie proste jest To'."
   ]
  },
  {
   "cell_type": "code",
   "execution_count": 64,
   "metadata": {},
   "outputs": [],
   "source": [
    "def odwracacz(wyraz: str):\n",
    "    \"\"\"funkcja odwracająca ciąg znakow przykładowo dla 'To jest proste zadanie' zwraca 'zadanie proste jest To'\n",
    "    Args:\n",
    "        wyraz (str): podaj wyrażenie(zdanie(str)) które chcesz odwrócić\n",
    "    \"\"\"\n",
    "    if (isinstance(wyraz,str)): \n",
    "        lista  = wyraz.split(' ')\n",
    "        odwrot = \"\"\n",
    "        for i in range(len(lista)-1,-1,-1):\n",
    "            if i !=0:\n",
    "                odwrot = odwrot + lista[i] +\" \"\n",
    "            else:\n",
    "                odwrot = odwrot + lista[i]\n",
    "            \n",
    "        return odwrot\n",
    "    else:\n",
    "        return \"to nie string\""
   ]
  },
  {
   "cell_type": "code",
   "execution_count": 65,
   "metadata": {},
   "outputs": [
    {
     "name": "stdout",
     "output_type": "stream",
     "text": [
      "zadanie proste jest To to nie string jedzie rower to nie string\n"
     ]
    }
   ],
   "source": [
    "print(odwracacz('To jest proste zadanie'),odwracacz(True),odwracacz(\"rower jedzie\"),odwracacz(1))"
   ]
  },
  {
   "cell_type": "markdown",
   "metadata": {},
   "source": [
    "Zad. 7. Mając zbiór stringów znajdź najdłuższy wspólny perfiks. Np. dla zbioru {'internet', 'introligator', 'interes'} najdłuższym wspólnym prefiksem jest 'int'.  Dla zbioru {'kot', 'kupa', 'kanapa', 'pies'} najdłuższy wspólny prefiks to '' (pusty string). "
   ]
  },
  {
   "cell_type": "code",
   "execution_count": 111,
   "metadata": {},
   "outputs": [],
   "source": [
    "def prefiks(zbior: set)->str:\n",
    "    \"\"\"funkcja zwracajaca najdłuższy wspólny prefiks w podanym zbiorze wyrazów \n",
    "    Args:\n",
    "        zbior (set): zbiór składający się z wyrazówm które chcesz przeszukać\n",
    "\n",
    "    Returns:\n",
    "        str: najdłuższy wspołny prefiks \n",
    "    \"\"\"\n",
    "    # znajdujemy najkrótszy wyraz, nasz prefiks na pewno nie będzie dluzszy do niego\n",
    "    lista = list(zbior)\n",
    "    \n",
    "    l = len(lista[0])\n",
    "    for i in lista:\n",
    "        if (len(i)<l):\n",
    "            l = len(i)\n",
    "    prefiks=\"\"\n",
    "    for i in range(l):\n",
    "        # przy przejściu przez każdą literkę tworzymy nowy zbiór, jeżeli literki w każdym wyrazie będą takie same to po obiegu przez wszystkie wyrazy będzie on miał długośc 1\n",
    "        zbior = set()\n",
    "        for j in lista:\n",
    "            zbior.add(j[i])\n",
    "        if (len(zbior)==1):\n",
    "            prefiks = prefiks + j[i]\n",
    "    return prefiks"
   ]
  },
  {
   "cell_type": "code",
   "execution_count": 115,
   "metadata": {},
   "outputs": [
    {
     "name": "stdout",
     "output_type": "stream",
     "text": [
      "int  kot kot\n"
     ]
    }
   ],
   "source": [
    "print(prefiks({'internet', 'introligator', 'interes'}),prefiks({'kot', 'kupa', 'kanapa', 'pies'}),prefiks({'kot','kott','kottt'}),prefiks({'kotek','kottek','kotkek'}))"
   ]
  },
  {
   "cell_type": "markdown",
   "metadata": {},
   "source": [
    "Zad. 8. Zaimplementuj następujący algorytm zmiany liczby w zapisie rzymskim na standardowy. \n",
    "\n",
    "Zdefiniuj słownik zamieniający rzymskie znaki na liczby {'I':1, 'V':5, 'X':10, 'L':50, 'C':100, 'D': 500, 'M':1000}\n",
    "String s zamień na listę l posługując się słownikiem (np. s='MCMXLIX' na l=[1000, 100, 1000, 10, 50, 1, 10] )\n",
    "Zdefiniuj zmienną suma jako sumę elementów z l, przy czym jeśli na k+1 miejscu na liście występuje liczba większa niż na k-tym, to liczbę na k-tym miejscy należy odjąć nie dodać, np. suma=1000-100+1000-10+50-1+10\n"
   ]
  },
  {
   "cell_type": "code",
   "execution_count": 125,
   "metadata": {},
   "outputs": [],
   "source": [
    "\n",
    "def rzymskie(s: str) -> int:\n",
    "    \"\"\"funkcja konwertuje liczbę zapisaną w postaci rzymskiej na listę przykładowo liczbę MCMXLIX na l=[1000, 100, 1000, 10, 50, 1, 10]. Następnie zwraca sumę składników tej sumy jednak w sposób\n",
    "    lekko odbiegający od standardowego, bo gdy na k+1 jest liczba większa niż na k to będzie ona odjęta. Więc przykładowo dla l suma=1000-100+1000-10+50-1+10\n",
    "\n",
    "    Args:\n",
    "        s (str): string reprezentujacy liczbę zapisaną w zapisie rzymskim \n",
    "\n",
    "    Returns:\n",
    "        int: suma skladników liczby podanej jako argument zdefiniowana w sposób opisany w opisie\n",
    "    \"\"\"\n",
    "    slownik = {'I':1, 'V':5, 'X':10, 'L':50, 'C':100, 'D': 500, 'M':1000}\n",
    "    l = list()\n",
    "    for i in s:\n",
    "        l.append(slownik[i])\n",
    "    suma = int()\n",
    "    prev = 0\n",
    "    for i in l:\n",
    "        if (i > prev):\n",
    "            suma = suma + i\n",
    "        else:\n",
    "            suma = suma - i \n",
    "        prev = i \n",
    "    return suma"
   ]
  },
  {
   "cell_type": "code",
   "execution_count": 126,
   "metadata": {},
   "outputs": [
    {
     "data": {
      "text/plain": [
       "1949"
      ]
     },
     "execution_count": 126,
     "metadata": {},
     "output_type": "execute_result"
    }
   ],
   "source": [
    "rzymskie('MCMXLIX')"
   ]
  }
 ],
 "metadata": {
  "kernelspec": {
   "display_name": "Python 3",
   "language": "python",
   "name": "python3"
  },
  "language_info": {
   "codemirror_mode": {
    "name": "ipython",
    "version": 3
   },
   "file_extension": ".py",
   "mimetype": "text/x-python",
   "name": "python",
   "nbconvert_exporter": "python",
   "pygments_lexer": "ipython3",
   "version": "3.12.0"
  }
 },
 "nbformat": 4,
 "nbformat_minor": 2
}
