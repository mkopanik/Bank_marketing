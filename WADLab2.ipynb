{
 "cells": [
  {
   "cell_type": "code",
   "execution_count": 1,
   "metadata": {},
   "outputs": [],
   "source": [
    "import pandas as pd \n",
    "import numpy as np \n"
   ]
  },
  {
   "cell_type": "markdown",
   "metadata": {},
   "source": [
    "Zadanie 1. Wyczytywanie pliku csv, znajdowanie pustych wartości\n",
    "\n",
    "Wczytaj plik nba.csv\n",
    "Usuń wiersze, gdzie wszystkie wartości to NaN.\n",
    "Policz, ile razy w każdej kolumnie występuje wartość NaN. Ile razy występuje w kolumnie College? Ile razy występuje w kolumnie Salary?\n",
    "Wartości NaN w kolumnie College zastąpić przez wartość 'No College'\n",
    "Zapisać plik jako nba1.csv\n"
   ]
  },
  {
   "cell_type": "code",
   "execution_count": 2,
   "metadata": {},
   "outputs": [
    {
     "data": {
      "text/plain": [
       "Name         0\n",
       "Team         0\n",
       "Number       0\n",
       "Position     0\n",
       "Age          0\n",
       "Height       0\n",
       "Weight       0\n",
       "College     84\n",
       "Salary      11\n",
       "dtype: int64"
      ]
     },
     "execution_count": 2,
     "metadata": {},
     "output_type": "execute_result"
    }
   ],
   "source": [
    "# wczytujemy plik nba.csv\n",
    "df = pd.read_csv(\"nba.csv\")\n",
    "# usuwamy wszystkie wiersze zaweierające same NaN\n",
    "df_ = df.copy().dropna(how='all')\n",
    "#Policz, ile razy w każdej kolumnie występuje wartość NaN. Ile razy występuje w kolumnie College? Ile razy występuje w kolumnie Salary?\n",
    "df_.isna().sum()\n"
   ]
  },
  {
   "cell_type": "markdown",
   "metadata": {},
   "source": [
    "Widzimy,ze w kolumnach college i salary mamy sporo brakujących danych w College- 84, a w Salary 11"
   ]
  },
  {
   "cell_type": "code",
   "execution_count": 3,
   "metadata": {},
   "outputs": [],
   "source": [
    "# Wartości NaN w kolumnie College zastąpić przez wartość 'No College'\n",
    "df_.fillna({'College':'No College'},inplace=True)"
   ]
  },
  {
   "cell_type": "code",
   "execution_count": 4,
   "metadata": {},
   "outputs": [],
   "source": [
    "# i zapisujemy naszą wstępnie opracowaną ramkę \n",
    "df_.to_csv(\"nba1.csv\")"
   ]
  },
  {
   "cell_type": "markdown",
   "metadata": {},
   "source": [
    "Zadanie 2. Waga, wzrost, BMI\n",
    "\n",
    "W kolumnie Weight waga zawodników podana jest w funtach. Utwórz kolumnę Weight_kg z przeliczoną masą na kilogramy\n",
    "W kolumnie Height wzrost podany jest w stopach i calach, np. 6-10 to 6 stóp i 10 cali.\n",
    "Zdefiniuj funkcję wzrost(height), która zamienia string height na dwie liczby całkowite: stopy i cale (np. dla height ='5-1', stopy = 5, cale =1), a następnie wzrost(height) zwraca wzrost w centymetrach.\n",
    "Używając metody .apply() utwórz nową kolumnę Height_cm zawierającą wzrost w centymetrach.\n",
    "Utwórz kolumnę BMI  zawierającą BMI zawodnika"
   ]
  },
  {
   "cell_type": "code",
   "execution_count": 5,
   "metadata": {},
   "outputs": [],
   "source": [
    "# pracujemy juz na naszej wstepnie obrobionej ramce danych\n",
    "#W kolumnie Weight waga zawodników podana jest w funtach. Utwórz kolumnę Weight_kg z przeliczoną masą na kilogramy\n",
    "df_['Weight_kg'] = df['Weight'] * 0.453592\n"
   ]
  },
  {
   "cell_type": "code",
   "execution_count": 6,
   "metadata": {},
   "outputs": [],
   "source": [
    "# W kolumnie Height wzrost podany jest w stopach i calach, np. 6-10 to 6 stóp i 10 cali.\n",
    "# Zdefiniuj funkcję wzrost(height), która zamienia string height na dwie liczby całkowite: \n",
    "# stopy i cale (np. dla height ='5-1', stopy = 5, cale =1), a następnie wzrost(height) zwraca wzrost w centymetrach.\n",
    "\n",
    "def wzrost(height):\n",
    "    split = height.split(\"-\")\n",
    "    try:\n",
    "        stopy = float(split[0])\n",
    "        cale = float(split[1])\n",
    "        centymetry = 30.48 * stopy + 2.54 * cale\n",
    "        return round(centymetry,2)\n",
    "    except ValueError:\n",
    "        return np.NaN\n",
    "    "
   ]
  },
  {
   "cell_type": "code",
   "execution_count": 7,
   "metadata": {},
   "outputs": [],
   "source": [
    "# teraz zastosujemy funkcje do konwersji jednostek w naszej ramce danych \n",
    "# Używając metody .apply() utwórz nową kolumnę Height_cm zawierającą wzrost w centymetrach.\n",
    "df_['Height_cm'] = df_['Height'].apply(wzrost)"
   ]
  },
  {
   "cell_type": "code",
   "execution_count": 8,
   "metadata": {},
   "outputs": [],
   "source": [
    "# Utwórz kolumnę BMI  zawierającą BMI zawodnika\n",
    "df_['BMI'] = df_['Weight_kg']/ ((df_['Height_cm']/100)**2)  # w bmi wzrost przeliczamy na metry \n"
   ]
  },
  {
   "cell_type": "markdown",
   "metadata": {},
   "source": [
    "Zadanie 3. Znajdowanie wartości min i max\n",
    "\n",
    "Znajdź wiek najmłodszego gracza; sprawdź, czy jest tylko jeden taki gracz; podaj jego (ich) imię, nazwisko i klub.\n",
    "Znajdź najwyższego zawodnika. Ilu zawodników jest tego wzrostu?\n",
    "Który z dwóch zawodników zarabia więcej: najlżejszy czy najcięższy?\n",
    "Ilu jest zawodników o największej liczbie lat? Który z nich zarabia najwięcej?\n"
   ]
  },
  {
   "cell_type": "code",
   "execution_count": 9,
   "metadata": {},
   "outputs": [
    {
     "data": {
      "text/plain": [
       "19.0"
      ]
     },
     "execution_count": 9,
     "metadata": {},
     "output_type": "execute_result"
    }
   ],
   "source": [
    "# Znajdź wiek najmłodszego gracza; sprawdź, czy jest tylko jeden taki gracz; podaj jego (ich) imię, nazwisko i klub.\n",
    "\n",
    "min_wiek = df_['Age'].min() # patrzymy jaki jest najnizszy wiek zawodnika w naszym zbiorze\n",
    "min_wiek"
   ]
  },
  {
   "cell_type": "code",
   "execution_count": 10,
   "metadata": {},
   "outputs": [
    {
     "data": {
      "text/html": [
       "<div>\n",
       "<style scoped>\n",
       "    .dataframe tbody tr th:only-of-type {\n",
       "        vertical-align: middle;\n",
       "    }\n",
       "\n",
       "    .dataframe tbody tr th {\n",
       "        vertical-align: top;\n",
       "    }\n",
       "\n",
       "    .dataframe thead th {\n",
       "        text-align: right;\n",
       "    }\n",
       "</style>\n",
       "<table border=\"1\" class=\"dataframe\">\n",
       "  <thead>\n",
       "    <tr style=\"text-align: right;\">\n",
       "      <th></th>\n",
       "      <th>Name</th>\n",
       "      <th>Team</th>\n",
       "    </tr>\n",
       "  </thead>\n",
       "  <tbody>\n",
       "    <tr>\n",
       "      <th>122</th>\n",
       "      <td>Devin Booker</td>\n",
       "      <td>Phoenix Suns</td>\n",
       "    </tr>\n",
       "    <tr>\n",
       "      <th>226</th>\n",
       "      <td>Rashad Vaughn</td>\n",
       "      <td>Milwaukee Bucks</td>\n",
       "    </tr>\n",
       "  </tbody>\n",
       "</table>\n",
       "</div>"
      ],
      "text/plain": [
       "              Name             Team\n",
       "122   Devin Booker     Phoenix Suns\n",
       "226  Rashad Vaughn  Milwaukee Bucks"
      ]
     },
     "execution_count": 10,
     "metadata": {},
     "output_type": "execute_result"
    }
   ],
   "source": [
    "# popatrzymy ilu mamy takich zawodników, wybierzemy oczekiwane kolumny czyli imie nazwisko i zespol\n",
    "df_[['Name','Team']][df_['Age']==min_wiek]"
   ]
  },
  {
   "cell_type": "markdown",
   "metadata": {},
   "source": [
    "Widzimy, ze jest dwoch takich zawodnikow "
   ]
  },
  {
   "cell_type": "markdown",
   "metadata": {},
   "source": [
    "Znajdź najwyższego zawodnika. Ilu zawodników jest tego wzrostu?"
   ]
  },
  {
   "cell_type": "code",
   "execution_count": 11,
   "metadata": {},
   "outputs": [
    {
     "data": {
      "text/html": [
       "<div>\n",
       "<style scoped>\n",
       "    .dataframe tbody tr th:only-of-type {\n",
       "        vertical-align: middle;\n",
       "    }\n",
       "\n",
       "    .dataframe tbody tr th {\n",
       "        vertical-align: top;\n",
       "    }\n",
       "\n",
       "    .dataframe thead th {\n",
       "        text-align: right;\n",
       "    }\n",
       "</style>\n",
       "<table border=\"1\" class=\"dataframe\">\n",
       "  <thead>\n",
       "    <tr style=\"text-align: right;\">\n",
       "      <th></th>\n",
       "      <th>Name</th>\n",
       "      <th>Team</th>\n",
       "      <th>Height_cm</th>\n",
       "    </tr>\n",
       "  </thead>\n",
       "  <tbody>\n",
       "    <tr>\n",
       "      <th>40</th>\n",
       "      <td>Kristaps Porzingis</td>\n",
       "      <td>New York Knicks</td>\n",
       "      <td>220.98</td>\n",
       "    </tr>\n",
       "    <tr>\n",
       "      <th>302</th>\n",
       "      <td>Boban Marjanovic</td>\n",
       "      <td>San Antonio Spurs</td>\n",
       "      <td>220.98</td>\n",
       "    </tr>\n",
       "    <tr>\n",
       "      <th>322</th>\n",
       "      <td>Walter Tavares</td>\n",
       "      <td>Atlanta Hawks</td>\n",
       "      <td>220.98</td>\n",
       "    </tr>\n",
       "    <tr>\n",
       "      <th>455</th>\n",
       "      <td>Tibor Pleiss</td>\n",
       "      <td>Utah Jazz</td>\n",
       "      <td>220.98</td>\n",
       "    </tr>\n",
       "  </tbody>\n",
       "</table>\n",
       "</div>"
      ],
      "text/plain": [
       "                   Name               Team  Height_cm\n",
       "40   Kristaps Porzingis    New York Knicks     220.98\n",
       "302    Boban Marjanovic  San Antonio Spurs     220.98\n",
       "322      Walter Tavares      Atlanta Hawks     220.98\n",
       "455        Tibor Pleiss          Utah Jazz     220.98"
      ]
     },
     "execution_count": 11,
     "metadata": {},
     "output_type": "execute_result"
    }
   ],
   "source": [
    "max_wzrost = df_['Height_cm'].max()\n",
    "df_[['Name','Team','Height_cm']][df_['Height_cm']==max_wzrost]"
   ]
  },
  {
   "cell_type": "markdown",
   "metadata": {},
   "source": [
    "Widzimy, ze jest czterech zawodnikow o najwiekszym wzroscie "
   ]
  },
  {
   "cell_type": "markdown",
   "metadata": {},
   "source": [
    "Który z dwóch zawodników zarabia więcej: najlżejszy czy najcięższy?"
   ]
  },
  {
   "cell_type": "code",
   "execution_count": 12,
   "metadata": {},
   "outputs": [
    {
     "data": {
      "text/html": [
       "<div>\n",
       "<style scoped>\n",
       "    .dataframe tbody tr th:only-of-type {\n",
       "        vertical-align: middle;\n",
       "    }\n",
       "\n",
       "    .dataframe tbody tr th {\n",
       "        vertical-align: top;\n",
       "    }\n",
       "\n",
       "    .dataframe thead th {\n",
       "        text-align: right;\n",
       "    }\n",
       "</style>\n",
       "<table border=\"1\" class=\"dataframe\">\n",
       "  <thead>\n",
       "    <tr style=\"text-align: right;\">\n",
       "      <th></th>\n",
       "      <th>Name</th>\n",
       "      <th>Team</th>\n",
       "      <th>Number</th>\n",
       "      <th>Position</th>\n",
       "      <th>Age</th>\n",
       "      <th>Height</th>\n",
       "      <th>Weight</th>\n",
       "      <th>College</th>\n",
       "      <th>Salary</th>\n",
       "      <th>Weight_kg</th>\n",
       "      <th>Height_cm</th>\n",
       "      <th>BMI</th>\n",
       "    </tr>\n",
       "  </thead>\n",
       "  <tbody>\n",
       "    <tr>\n",
       "      <th>152</th>\n",
       "      <td>Aaron Brooks</td>\n",
       "      <td>Chicago Bulls</td>\n",
       "      <td>0.0</td>\n",
       "      <td>PG</td>\n",
       "      <td>31.0</td>\n",
       "      <td>6-0</td>\n",
       "      <td>161.0</td>\n",
       "      <td>Oregon</td>\n",
       "      <td>2250000.0</td>\n",
       "      <td>73.028312</td>\n",
       "      <td>182.88</td>\n",
       "      <td>21.835284</td>\n",
       "    </tr>\n",
       "  </tbody>\n",
       "</table>\n",
       "</div>"
      ],
      "text/plain": [
       "             Name           Team  Number Position   Age Height  Weight  \\\n",
       "152  Aaron Brooks  Chicago Bulls     0.0       PG  31.0    6-0   161.0   \n",
       "\n",
       "    College     Salary  Weight_kg  Height_cm        BMI  \n",
       "152  Oregon  2250000.0  73.028312     182.88  21.835284  "
      ]
     },
     "execution_count": 12,
     "metadata": {},
     "output_type": "execute_result"
    }
   ],
   "source": [
    "# najpierw wyswitlimy najlzejszego zawodniak aby miec tez pewnosc ze mamy doczynienia tylko z jednym zawodnikiem o najmniejszej wadze\n",
    "\n",
    "piorko = df_[df_['Weight_kg']==df_['Weight_kg'].min()]\n",
    "piorko"
   ]
  },
  {
   "cell_type": "code",
   "execution_count": 13,
   "metadata": {},
   "outputs": [],
   "source": [
    "# odłozymy w pamieci zarobki najlzejszego zawodnika\n",
    "piorko_pensja = piorko['Salary'].values[0]"
   ]
  },
  {
   "cell_type": "code",
   "execution_count": 14,
   "metadata": {},
   "outputs": [
    {
     "data": {
      "text/html": [
       "<div>\n",
       "<style scoped>\n",
       "    .dataframe tbody tr th:only-of-type {\n",
       "        vertical-align: middle;\n",
       "    }\n",
       "\n",
       "    .dataframe tbody tr th {\n",
       "        vertical-align: top;\n",
       "    }\n",
       "\n",
       "    .dataframe thead th {\n",
       "        text-align: right;\n",
       "    }\n",
       "</style>\n",
       "<table border=\"1\" class=\"dataframe\">\n",
       "  <thead>\n",
       "    <tr style=\"text-align: right;\">\n",
       "      <th></th>\n",
       "      <th>Name</th>\n",
       "      <th>Team</th>\n",
       "      <th>Number</th>\n",
       "      <th>Position</th>\n",
       "      <th>Age</th>\n",
       "      <th>Height</th>\n",
       "      <th>Weight</th>\n",
       "      <th>College</th>\n",
       "      <th>Salary</th>\n",
       "      <th>Weight_kg</th>\n",
       "      <th>Height_cm</th>\n",
       "      <th>BMI</th>\n",
       "    </tr>\n",
       "  </thead>\n",
       "  <tbody>\n",
       "    <tr>\n",
       "      <th>405</th>\n",
       "      <td>Nikola Pekovic</td>\n",
       "      <td>Minnesota Timberwolves</td>\n",
       "      <td>14.0</td>\n",
       "      <td>C</td>\n",
       "      <td>30.0</td>\n",
       "      <td>6-11</td>\n",
       "      <td>307.0</td>\n",
       "      <td>No College</td>\n",
       "      <td>12100000.0</td>\n",
       "      <td>139.252744</td>\n",
       "      <td>210.82</td>\n",
       "      <td>31.331425</td>\n",
       "    </tr>\n",
       "  </tbody>\n",
       "</table>\n",
       "</div>"
      ],
      "text/plain": [
       "               Name                    Team  Number Position   Age Height  \\\n",
       "405  Nikola Pekovic  Minnesota Timberwolves    14.0        C  30.0   6-11   \n",
       "\n",
       "     Weight     College      Salary   Weight_kg  Height_cm        BMI  \n",
       "405   307.0  No College  12100000.0  139.252744     210.82  31.331425  "
      ]
     },
     "execution_count": 14,
     "metadata": {},
     "output_type": "execute_result"
    }
   ],
   "source": [
    "# teraz to samo dla najciezszego \n",
    "ciezki = df_[df_['Weight_kg']==df_['Weight_kg'].max()]\n",
    "ciezki"
   ]
  },
  {
   "cell_type": "code",
   "execution_count": 15,
   "metadata": {},
   "outputs": [],
   "source": [
    "# zapisujemy sobie pensje naszego najciezszego zawodniak\n",
    "ciezki_pensja = ciezki['Salary'].values[0]\n"
   ]
  },
  {
   "cell_type": "code",
   "execution_count": 16,
   "metadata": {},
   "outputs": [
    {
     "data": {
      "text/html": [
       "<div>\n",
       "<style scoped>\n",
       "    .dataframe tbody tr th:only-of-type {\n",
       "        vertical-align: middle;\n",
       "    }\n",
       "\n",
       "    .dataframe tbody tr th {\n",
       "        vertical-align: top;\n",
       "    }\n",
       "\n",
       "    .dataframe thead th {\n",
       "        text-align: right;\n",
       "    }\n",
       "</style>\n",
       "<table border=\"1\" class=\"dataframe\">\n",
       "  <thead>\n",
       "    <tr style=\"text-align: right;\">\n",
       "      <th></th>\n",
       "      <th>Name</th>\n",
       "      <th>Team</th>\n",
       "      <th>Number</th>\n",
       "      <th>Position</th>\n",
       "      <th>Age</th>\n",
       "      <th>Height</th>\n",
       "      <th>Weight</th>\n",
       "      <th>College</th>\n",
       "      <th>Salary</th>\n",
       "      <th>Weight_kg</th>\n",
       "      <th>Height_cm</th>\n",
       "      <th>BMI</th>\n",
       "    </tr>\n",
       "  </thead>\n",
       "  <tbody>\n",
       "    <tr>\n",
       "      <th>405</th>\n",
       "      <td>Nikola Pekovic</td>\n",
       "      <td>Minnesota Timberwolves</td>\n",
       "      <td>14.0</td>\n",
       "      <td>C</td>\n",
       "      <td>30.0</td>\n",
       "      <td>6-11</td>\n",
       "      <td>307.0</td>\n",
       "      <td>No College</td>\n",
       "      <td>12100000.0</td>\n",
       "      <td>139.252744</td>\n",
       "      <td>210.82</td>\n",
       "      <td>31.331425</td>\n",
       "    </tr>\n",
       "  </tbody>\n",
       "</table>\n",
       "</div>"
      ],
      "text/plain": [
       "               Name                    Team  Number Position   Age Height  \\\n",
       "405  Nikola Pekovic  Minnesota Timberwolves    14.0        C  30.0   6-11   \n",
       "\n",
       "     Weight     College      Salary   Weight_kg  Height_cm        BMI  \n",
       "405   307.0  No College  12100000.0  139.252744     210.82  31.331425  "
      ]
     },
     "execution_count": 16,
     "metadata": {},
     "output_type": "execute_result"
    }
   ],
   "source": [
    "# teraz wyswietlimy zawodnika z tej pary ktory wiecej zarabia \n",
    "df_[df_['Salary'] == max([piorko_pensja,ciezki_pensja])]"
   ]
  },
  {
   "cell_type": "code",
   "execution_count": 17,
   "metadata": {},
   "outputs": [],
   "source": [
    "# mozemy tez pozostac przy pracy na ramkach danych i polaczyc ta zawierajaca nalzszego i najciezszego zawodnika\n",
    "# i nastepnie wybrac najwiecej zarabiajacego \n",
    "ciezki = df_[df_['Weight_kg']==df_['Weight_kg'].max()]\n",
    "piorko = df_[df_['Weight_kg']==df_['Weight_kg'].min()]\n",
    "\n",
    "# w tym przypadku nie musimy sie przejmowac czy ramki danych zawieraja tylko jeden taki przypadek "
   ]
  },
  {
   "cell_type": "code",
   "execution_count": 18,
   "metadata": {},
   "outputs": [],
   "source": [
    "lekkki_ciezki = pd.concat([ciezki,piorko]) # wpsujemy dwie ramki pod sobą"
   ]
  },
  {
   "cell_type": "code",
   "execution_count": 19,
   "metadata": {},
   "outputs": [
    {
     "data": {
      "text/html": [
       "<div>\n",
       "<style scoped>\n",
       "    .dataframe tbody tr th:only-of-type {\n",
       "        vertical-align: middle;\n",
       "    }\n",
       "\n",
       "    .dataframe tbody tr th {\n",
       "        vertical-align: top;\n",
       "    }\n",
       "\n",
       "    .dataframe thead th {\n",
       "        text-align: right;\n",
       "    }\n",
       "</style>\n",
       "<table border=\"1\" class=\"dataframe\">\n",
       "  <thead>\n",
       "    <tr style=\"text-align: right;\">\n",
       "      <th></th>\n",
       "      <th>Name</th>\n",
       "      <th>Team</th>\n",
       "      <th>Number</th>\n",
       "      <th>Position</th>\n",
       "      <th>Age</th>\n",
       "      <th>Height</th>\n",
       "      <th>Weight</th>\n",
       "      <th>College</th>\n",
       "      <th>Salary</th>\n",
       "      <th>Weight_kg</th>\n",
       "      <th>Height_cm</th>\n",
       "      <th>BMI</th>\n",
       "    </tr>\n",
       "  </thead>\n",
       "  <tbody>\n",
       "    <tr>\n",
       "      <th>405</th>\n",
       "      <td>Nikola Pekovic</td>\n",
       "      <td>Minnesota Timberwolves</td>\n",
       "      <td>14.0</td>\n",
       "      <td>C</td>\n",
       "      <td>30.0</td>\n",
       "      <td>6-11</td>\n",
       "      <td>307.0</td>\n",
       "      <td>No College</td>\n",
       "      <td>12100000.0</td>\n",
       "      <td>139.252744</td>\n",
       "      <td>210.82</td>\n",
       "      <td>31.331425</td>\n",
       "    </tr>\n",
       "  </tbody>\n",
       "</table>\n",
       "</div>"
      ],
      "text/plain": [
       "               Name                    Team  Number Position   Age Height  \\\n",
       "405  Nikola Pekovic  Minnesota Timberwolves    14.0        C  30.0   6-11   \n",
       "\n",
       "     Weight     College      Salary   Weight_kg  Height_cm        BMI  \n",
       "405   307.0  No College  12100000.0  139.252744     210.82  31.331425  "
      ]
     },
     "execution_count": 19,
     "metadata": {},
     "output_type": "execute_result"
    }
   ],
   "source": [
    "lekkki_ciezki[lekkki_ciezki['Salary']==lekkki_ciezki['Salary'].max()]"
   ]
  },
  {
   "cell_type": "markdown",
   "metadata": {},
   "source": [
    "Ilu jest zawodników o największej liczbie lat? Który z nich zarabia najwięcej?\n"
   ]
  },
  {
   "cell_type": "code",
   "execution_count": 20,
   "metadata": {},
   "outputs": [
    {
     "data": {
      "text/html": [
       "<div>\n",
       "<style scoped>\n",
       "    .dataframe tbody tr th:only-of-type {\n",
       "        vertical-align: middle;\n",
       "    }\n",
       "\n",
       "    .dataframe tbody tr th {\n",
       "        vertical-align: top;\n",
       "    }\n",
       "\n",
       "    .dataframe thead th {\n",
       "        text-align: right;\n",
       "    }\n",
       "</style>\n",
       "<table border=\"1\" class=\"dataframe\">\n",
       "  <thead>\n",
       "    <tr style=\"text-align: right;\">\n",
       "      <th></th>\n",
       "      <th>Name</th>\n",
       "      <th>Team</th>\n",
       "      <th>Number</th>\n",
       "      <th>Position</th>\n",
       "      <th>Age</th>\n",
       "      <th>Height</th>\n",
       "      <th>Weight</th>\n",
       "      <th>College</th>\n",
       "      <th>Salary</th>\n",
       "      <th>Weight_kg</th>\n",
       "      <th>Height_cm</th>\n",
       "      <th>BMI</th>\n",
       "    </tr>\n",
       "  </thead>\n",
       "  <tbody>\n",
       "    <tr>\n",
       "      <th>298</th>\n",
       "      <td>Tim Duncan</td>\n",
       "      <td>San Antonio Spurs</td>\n",
       "      <td>21.0</td>\n",
       "      <td>C</td>\n",
       "      <td>40.0</td>\n",
       "      <td>6-11</td>\n",
       "      <td>250.0</td>\n",
       "      <td>Wake Forest</td>\n",
       "      <td>5250000.0</td>\n",
       "      <td>113.39800</td>\n",
       "      <td>210.82</td>\n",
       "      <td>25.514190</td>\n",
       "    </tr>\n",
       "    <tr>\n",
       "      <th>304</th>\n",
       "      <td>Andre Miller</td>\n",
       "      <td>San Antonio Spurs</td>\n",
       "      <td>24.0</td>\n",
       "      <td>PG</td>\n",
       "      <td>40.0</td>\n",
       "      <td>6-3</td>\n",
       "      <td>200.0</td>\n",
       "      <td>Utah</td>\n",
       "      <td>250750.0</td>\n",
       "      <td>90.71840</td>\n",
       "      <td>190.50</td>\n",
       "      <td>24.998009</td>\n",
       "    </tr>\n",
       "    <tr>\n",
       "      <th>400</th>\n",
       "      <td>Kevin Garnett</td>\n",
       "      <td>Minnesota Timberwolves</td>\n",
       "      <td>21.0</td>\n",
       "      <td>PF</td>\n",
       "      <td>40.0</td>\n",
       "      <td>6-11</td>\n",
       "      <td>240.0</td>\n",
       "      <td>No College</td>\n",
       "      <td>8500000.0</td>\n",
       "      <td>108.86208</td>\n",
       "      <td>210.82</td>\n",
       "      <td>24.493622</td>\n",
       "    </tr>\n",
       "  </tbody>\n",
       "</table>\n",
       "</div>"
      ],
      "text/plain": [
       "              Name                    Team  Number Position   Age Height  \\\n",
       "298     Tim Duncan       San Antonio Spurs    21.0        C  40.0   6-11   \n",
       "304   Andre Miller       San Antonio Spurs    24.0       PG  40.0    6-3   \n",
       "400  Kevin Garnett  Minnesota Timberwolves    21.0       PF  40.0   6-11   \n",
       "\n",
       "     Weight      College     Salary  Weight_kg  Height_cm        BMI  \n",
       "298   250.0  Wake Forest  5250000.0  113.39800     210.82  25.514190  \n",
       "304   200.0         Utah   250750.0   90.71840     190.50  24.998009  \n",
       "400   240.0   No College  8500000.0  108.86208     210.82  24.493622  "
      ]
     },
     "execution_count": 20,
     "metadata": {},
     "output_type": "execute_result"
    }
   ],
   "source": [
    "# zaczniemy od utworzenia ramki danych zawierajacych zawodnikow o najstarszym wieku \n",
    "\n",
    "df_old = df_[df_['Age']==df_['Age'].max()]\n",
    "df_old"
   ]
  },
  {
   "cell_type": "code",
   "execution_count": 21,
   "metadata": {},
   "outputs": [
    {
     "data": {
      "text/plain": [
       "3"
      ]
     },
     "execution_count": 21,
     "metadata": {},
     "output_type": "execute_result"
    }
   ],
   "source": [
    "# liczba takich zawodnikow\n",
    "len(df_old)"
   ]
  },
  {
   "cell_type": "code",
   "execution_count": 22,
   "metadata": {},
   "outputs": [
    {
     "data": {
      "text/html": [
       "<div>\n",
       "<style scoped>\n",
       "    .dataframe tbody tr th:only-of-type {\n",
       "        vertical-align: middle;\n",
       "    }\n",
       "\n",
       "    .dataframe tbody tr th {\n",
       "        vertical-align: top;\n",
       "    }\n",
       "\n",
       "    .dataframe thead th {\n",
       "        text-align: right;\n",
       "    }\n",
       "</style>\n",
       "<table border=\"1\" class=\"dataframe\">\n",
       "  <thead>\n",
       "    <tr style=\"text-align: right;\">\n",
       "      <th></th>\n",
       "      <th>Name</th>\n",
       "      <th>Team</th>\n",
       "      <th>Number</th>\n",
       "      <th>Position</th>\n",
       "      <th>Age</th>\n",
       "      <th>Height</th>\n",
       "      <th>Weight</th>\n",
       "      <th>College</th>\n",
       "      <th>Salary</th>\n",
       "      <th>Weight_kg</th>\n",
       "      <th>Height_cm</th>\n",
       "      <th>BMI</th>\n",
       "    </tr>\n",
       "  </thead>\n",
       "  <tbody>\n",
       "    <tr>\n",
       "      <th>400</th>\n",
       "      <td>Kevin Garnett</td>\n",
       "      <td>Minnesota Timberwolves</td>\n",
       "      <td>21.0</td>\n",
       "      <td>PF</td>\n",
       "      <td>40.0</td>\n",
       "      <td>6-11</td>\n",
       "      <td>240.0</td>\n",
       "      <td>No College</td>\n",
       "      <td>8500000.0</td>\n",
       "      <td>108.86208</td>\n",
       "      <td>210.82</td>\n",
       "      <td>24.493622</td>\n",
       "    </tr>\n",
       "  </tbody>\n",
       "</table>\n",
       "</div>"
      ],
      "text/plain": [
       "              Name                    Team  Number Position   Age Height  \\\n",
       "400  Kevin Garnett  Minnesota Timberwolves    21.0       PF  40.0   6-11   \n",
       "\n",
       "     Weight     College     Salary  Weight_kg  Height_cm        BMI  \n",
       "400   240.0  No College  8500000.0  108.86208     210.82  24.493622  "
      ]
     },
     "execution_count": 22,
     "metadata": {},
     "output_type": "execute_result"
    }
   ],
   "source": [
    "# teraz pozostalo wybrac tego ktory najwiecej zarabia\n",
    "df_old[df_old['Salary']==df_old['Salary'].max()]"
   ]
  },
  {
   "cell_type": "code",
   "execution_count": 23,
   "metadata": {},
   "outputs": [
    {
     "data": {
      "text/html": [
       "<div>\n",
       "<style scoped>\n",
       "    .dataframe tbody tr th:only-of-type {\n",
       "        vertical-align: middle;\n",
       "    }\n",
       "\n",
       "    .dataframe tbody tr th {\n",
       "        vertical-align: top;\n",
       "    }\n",
       "\n",
       "    .dataframe thead th {\n",
       "        text-align: right;\n",
       "    }\n",
       "</style>\n",
       "<table border=\"1\" class=\"dataframe\">\n",
       "  <thead>\n",
       "    <tr style=\"text-align: right;\">\n",
       "      <th></th>\n",
       "      <th>Name</th>\n",
       "      <th>Team</th>\n",
       "      <th>Number</th>\n",
       "      <th>Position</th>\n",
       "      <th>Age</th>\n",
       "      <th>Height</th>\n",
       "      <th>Weight</th>\n",
       "      <th>College</th>\n",
       "      <th>Salary</th>\n",
       "      <th>Weight_kg</th>\n",
       "      <th>Height_cm</th>\n",
       "      <th>BMI</th>\n",
       "    </tr>\n",
       "  </thead>\n",
       "  <tbody>\n",
       "    <tr>\n",
       "      <th>400</th>\n",
       "      <td>Kevin Garnett</td>\n",
       "      <td>Minnesota Timberwolves</td>\n",
       "      <td>21.0</td>\n",
       "      <td>PF</td>\n",
       "      <td>40.0</td>\n",
       "      <td>6-11</td>\n",
       "      <td>240.0</td>\n",
       "      <td>No College</td>\n",
       "      <td>8500000.0</td>\n",
       "      <td>108.86208</td>\n",
       "      <td>210.82</td>\n",
       "      <td>24.493622</td>\n",
       "    </tr>\n",
       "  </tbody>\n",
       "</table>\n",
       "</div>"
      ],
      "text/plain": [
       "              Name                    Team  Number Position   Age Height  \\\n",
       "400  Kevin Garnett  Minnesota Timberwolves    21.0       PF  40.0   6-11   \n",
       "\n",
       "     Weight     College     Salary  Weight_kg  Height_cm        BMI  \n",
       "400   240.0  No College  8500000.0  108.86208     210.82  24.493622  "
      ]
     },
     "execution_count": 23,
     "metadata": {},
     "output_type": "execute_result"
    }
   ],
   "source": [
    "# ewentualnie mozemy tez posortowac malejaco po kolumnie salary i wybrac pierwszy wiersz\n",
    "df_old.sort_values(by = 'Salary' ,ascending= False).head(1)"
   ]
  },
  {
   "cell_type": "markdown",
   "metadata": {},
   "source": [
    "Zadanie 4. Automatyzacja zapisu plików\n",
    "\n",
    "Utwórz (np. ręcznie) katalog NBA teams.\n",
    "Wczytaj plik nba1.csv\n",
    "Z danych w kolumnie Team stwórz listę drużyn (bez powtórzeń)\n",
    "Używając pętli for, dla każdej drużyny: (a) przefiltruj dane, by zawierały informacje tylko o danej drużynie; (b) zapisz je w plikach Nazwa Drużyny.csv, np. Miami Heat.csv  "
   ]
  },
  {
   "cell_type": "code",
   "execution_count": 24,
   "metadata": {},
   "outputs": [],
   "source": [
    "nba_teams = pd.read_csv('nba1.csv')\n",
    "# tworzymy liste temaow bez powtórzeń- idealnie nada się typ danych jakim jest zbior ktory domyslnie odrzuci duplikaty\n",
    "lista_teamow = set(df_['Team'])\n"
   ]
  },
  {
   "cell_type": "code",
   "execution_count": 25,
   "metadata": {},
   "outputs": [],
   "source": [
    "for i in lista_teamow:\n",
    "    druzyna = df[df['Team']==i]  # odkladamy wycinek ramki danych dotyczacy danej druzyny w ramce danych \n",
    "    druzyna.to_csv(f'Nba_teams/{i}.csv') # zapisujemy nasz wycinek ramki danych"
   ]
  },
  {
   "cell_type": "markdown",
   "metadata": {},
   "source": [
    "Zadanie 5. Tworzenie histogramów\n",
    "\n",
    "Wczytaj plik nba1.csv\n",
    "Dla każdej pozycji stwórz histogram wzrostu w cm dla wszystkich graczy o tej pozycji. \n",
    "Czy wzrost ma wpływ na to, na której pozycji gra gracz?"
   ]
  },
  {
   "cell_type": "code",
   "execution_count": 26,
   "metadata": {},
   "outputs": [],
   "source": [
    "data = pd.read_csv('nba1.csv')\n",
    "data['Height_cm'] = data['Height'].apply(wzrost)\n"
   ]
  },
  {
   "cell_type": "code",
   "execution_count": 27,
   "metadata": {},
   "outputs": [
    {
     "data": {
      "text/plain": [
       "array(['PG', 'SF', 'SG', 'PF', 'C'], dtype=object)"
      ]
     },
     "execution_count": 27,
     "metadata": {},
     "output_type": "execute_result"
    }
   ],
   "source": [
    "data['Position'].unique()"
   ]
  },
  {
   "cell_type": "code",
   "execution_count": 28,
   "metadata": {},
   "outputs": [],
   "source": [
    "data['Position'] = data['Position'].replace({'C':'Center(Srodkowy)','PF':'Power Forward(Silny skrzydlowy)',\"PG\":'Point guard(Rozgrywajacy)',\"SF\":'Small forward(Niski skrzydlowy)','SG':'Shooting guard(Rzucajacy obronca)'})\n"
   ]
  },
  {
   "cell_type": "code",
   "execution_count": 29,
   "metadata": {},
   "outputs": [
    {
     "data": {
      "image/png": "[encoded data removed]",
      "text/plain": [
       "<Figure size 1500x800 with 6 Axes>"
      ]
     },
     "metadata": {},
     "output_type": "display_data"
    }
   ],
   "source": [
    "import matplotlib.pyplot as plt \n",
    "data.hist(by = 'Position',column='Height_cm',figsize=(15,8),color = 'pink',bins=8)\n",
    "plt.show()"
   ]
  },
  {
   "cell_type": "code",
   "execution_count": 30,
   "metadata": {},
   "outputs": [
    {
     "data": {
      "image/png": "[encoded data removed]",
      "text/plain": [
       "<Figure size 2000x800 with 1 Axes>"
      ]
     },
     "metadata": {},
     "output_type": "display_data"
    }
   ],
   "source": [
    "# dodatkowo narysujemy wszystkie histogramy na jednym wykresie \n",
    "pozycje = data['Position'].unique()\n",
    "for i in pozycje:\n",
    "    data[data['Position']==i]['Height_cm'].plot.hist(label = i,legend = True,figsize= (20,8))"
   ]
  },
  {
   "cell_type": "markdown",
   "metadata": {},
   "source": [
    "Wydaje sie, ze zdecydowanie wzrost ma wplyw na to na jakiej pozycji gra zawodnik na przyklad na pozycji Center-srodkowy graja zawodnicy wsrod ktorych wzrost najczesciej jest pomiedzy 210-215 centrymetrow. A na pozycji Point guard- rozgrywajacy zawodnicy najczesciej pomiedzy 185, a 190 cm wiec roznice są wyrazne w zaleznosci od pozycji"
   ]
  }
 ],
 "metadata": {
  "kernelspec": {
   "display_name": "Python 3",
   "language": "python",
   "name": "python3"
  },
  "language_info": {
   "codemirror_mode": {
    "name": "ipython",
    "version": 3
   },
   "file_extension": ".py",
   "mimetype": "text/x-python",
   "name": "python",
   "nbconvert_exporter": "python",
   "pygments_lexer": "ipython3",
   "version": "3.12.2"
  }
 },
 "nbformat": 4,
 "nbformat_minor": 2
}
