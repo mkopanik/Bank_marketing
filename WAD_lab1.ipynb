{
 "cells": [
  {
   "cell_type": "markdown",
   "metadata": {},
   "source": [
    "Zad 1. Stworzyć funkcję odleglosc, która dla dwóch punktów zwraca odległość euklidesową między nimi. \n",
    "\n",
    "na płaszczyźnie\n",
    "w ℝ𝑛 bez ustalania wartości "
   ]
  },
  {
   "cell_type": "code",
   "execution_count": 47,
   "metadata": {},
   "outputs": [],
   "source": [
    "def odleglosc(x,y):\n",
    "    \"\"\"\n",
    "    podaj dwa punkty jako lista lub krotka  przykladowo dla R^2 x = (1,1), y = (4,5) lub x = [1,1] , y = [4,5]\n",
    "    \"\"\"\n",
    "    import math\n",
    "    l1 = len(x)\n",
    "    l2 = len(y)\n",
    "    if (l1 != l2):\n",
    "        return \"Podałeś punkty z róznych wymiarów\"\n",
    "        \n",
    "    else:\n",
    "        sum = 0\n",
    "        for i in range(l1):\n",
    "            sum = sum + (x[i]-y[i])**2\n",
    "        return math.sqrt(sum)\n",
    "     "
   ]
  },
  {
   "cell_type": "code",
   "execution_count": 48,
   "metadata": {},
   "outputs": [
    {
     "name": "stdout",
     "output_type": "stream",
     "text": [
      "5.196152422706632 18.681541692269406 5.744562646538029 Podałeś punkty z róznych wymiarów\n"
     ]
    }
   ],
   "source": [
    "print(odleglosc([1,2,3],[4,5,6]),odleglosc((5,2),(10,20)),odleglosc((1,2,3,4,5,6),(4,3,2,1,7,9)),odleglosc((2,2),(1,5,6)))"
   ]
  },
  {
   "cell_type": "markdown",
   "metadata": {},
   "source": [
    "Zad. 2. Zdefiniuj funkcję czytrojkat pobierającą współrzędne trzech punktów na płaszczyźnie i sprawdzającą czy da się z nich zbudować trójkąt. Np. dla [0,0], [0,2], [0,3] wynik ma być False; dla [0,0], [0,2], [3,0] wynik ma być True."
   ]
  },
  {
   "cell_type": "code",
   "execution_count": 70,
   "metadata": {},
   "outputs": [],
   "source": [
    "def czytrojkat(x,y,z):\n",
    "    \"\"\"funkcja pobierająca współrzędne trzech punktów z płaszczyzny i sprawdzająca, czy da się z nich zbudować trojkąt, argumenty podawaj \n",
    "        w postaci krotki bądź list zawierającej współrzędne kazdego punktu z płaszczyzny przykładowo dla [0,0], [0,2], [0,3] zwraca wartość False; \n",
    "        dla [0,0], [0,2], [3,0],True.\n",
    "    \"\"\"\n",
    "    # skorzystamy ze wzoru na pole trójkąta na płaszczyźnie jezeli jego pole będzie wynosić zero to punkty są wspóliniowe zwrocimy False\n",
    "    # pomijamy 1/2 i moduł ze wzoru bo interesuje nas zerowy iloczyn \n",
    "    P = x[0]*(y[1]-z[1]) + y[0]*(z[1]-x[1]) + z[0] * (x[1]-y[1])\n",
    "    if (P!=0):\n",
    "        return True\n",
    "    else:\n",
    "        return False\n",
    "    "
   ]
  },
  {
   "cell_type": "code",
   "execution_count": 37,
   "metadata": {},
   "outputs": [
    {
     "name": "stdout",
     "output_type": "stream",
     "text": [
      "False True False\n"
     ]
    }
   ],
   "source": [
    "print(czytrojkat([0,0],[0,2],[0,3]),czytrojkat([0,0],[0,2],[3,0]),czytrojkat((1,1),(0,0),(2,2)))\n"
   ]
  },
  {
   "cell_type": "markdown",
   "metadata": {},
   "source": [
    "Zad. 3. Zdefiniować funkcję czyrozwartokatny sprawdzającą, czy trzy punkty na płaszczyźnie tworzą trójkąt rozwartokątny. "
   ]
  },
  {
   "cell_type": "code",
   "execution_count": 94,
   "metadata": {},
   "outputs": [],
   "source": [
    "def czyrozwartokatny(x,y,z):\n",
    "    \"\"\"funkcja sprawdza, czy podane przez ciebie trzy punkty z płaszczyzny w formie krotki lub listy tworzą trojkąt rozwartokątny\n",
    "        zwraca True jezeli mozna utworzyc trojkat rozwartokatny \n",
    "    \"\"\"\n",
    "    if czytrojkat(x,y,z):\n",
    "        l1 = round(odleglosc(x,y)**2,4)\n",
    "        l2 = round(odleglosc(y,z)**2,4)\n",
    "        l3 = round(odleglosc(x,z)**2,4)\n",
    "        if ((l1> (l1+l2))or (l2 > (l1+l3)) or (l3>(l1+l2))):\n",
    "            return True\n",
    "        else:\n",
    "            return False\n",
    "    else:\n",
    "        \n",
    "        return False\n",
    "\n",
    "       "
   ]
  },
  {
   "cell_type": "code",
   "execution_count": 95,
   "metadata": {},
   "outputs": [
    {
     "name": "stdout",
     "output_type": "stream",
     "text": [
      "False False True True False\n"
     ]
    }
   ],
   "source": [
    "print(czyrozwartokatny([0,0],[0,2],[0,3]),czyrozwartokatny([0,0],[0,2],[3,0]),czyrozwartokatny([0,0],[1,0],[-2,1]),czyrozwartokatny([5,5],[20,5],[3,3]),czyrozwartokatny([0,0],[0,2],[2,0]))"
   ]
  },
  {
   "cell_type": "markdown",
   "metadata": {},
   "source": [
    "Zad. 4. Stworzyć funkcję sprawdzającą, czy cztery punkty na płaszczyźnie tworzą prostokąt, którego boki są równoległe do osi układu współrzędnych.\n",
    "\n"
   ]
  },
  {
   "cell_type": "code",
   "execution_count": 29,
   "metadata": {},
   "outputs": [],
   "source": [
    "def prost_rown(a,b,c,d):\n",
    "    \"\"\"Funkcja dla czterech punktów zwraca, czy utworzą prostokąt którego boki są równoległe do osi układu współrzędnych\n",
    "\n",
    "    Args:\n",
    "        a (list,tuple): punkt\n",
    "        b (list,tuple): punkt\n",
    "        c (list,tuple): punkt\n",
    "        d (list.tuple): punkt\n",
    "    \"\"\"\n",
    "    punkty = [b,c,d]\n",
    " \n",
    "    punktyg = punkty\n",
    "    for x in punkty:\n",
    "        \n",
    "        if (x[0]==a[0]):\n",
    "            punkt1 = x\n",
    "            punktyg.remove(punkt1)\n",
    "        if (x[1]==a[1]):\n",
    "            punkt2 = x\n",
    "            punktyg.remove(punkt2)\n",
    "    if (len(punkty)==1):\n",
    "        l1 = odleglosc(x,punkt1)**2\n",
    "        l2 = odleglosc(punkt1,punktyg[0])**2\n",
    "        l3 = odleglosc(x,punktyg[0])**2\n",
    "        if (l1+l2 == l3):\n",
    "            return True\n",
    "        return False    \n",
    "    else:\n",
    "        return False"
   ]
  },
  {
   "cell_type": "code",
   "execution_count": 30,
   "metadata": {},
   "outputs": [
    {
     "name": "stdout",
     "output_type": "stream",
     "text": [
      "fdsadsa\n"
     ]
    }
   ],
   "source": [
    "print(prost_rown([0,0],[5,0],[0,5],[5,5]))"
   ]
  }
 ],
 "metadata": {
  "kernelspec": {
   "display_name": "Python 3",
   "language": "python",
   "name": "python3"
  },
  "language_info": {
   "codemirror_mode": {
    "name": "ipython",
    "version": 3
   },
   "file_extension": ".py",
   "mimetype": "text/x-python",
   "name": "python",
   "nbconvert_exporter": "python",
   "pygments_lexer": "ipython3",
   "version": "3.12.2"
  }
 },
 "nbformat": 4,
 "nbformat_minor": 2
}
